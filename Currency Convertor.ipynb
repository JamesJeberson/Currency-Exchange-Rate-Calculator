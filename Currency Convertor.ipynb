{
 "cells": [
  {
   "cell_type": "markdown",
   "id": "c5bd4917-c37c-4547-af30-10f743464a9f",
   "metadata": {},
   "source": [
    "# Simple Currency Convertor"
   ]
  },
  {
   "cell_type": "code",
   "execution_count": 118,
   "id": "49bfadfc-5891-481a-8295-20a6753ea309",
   "metadata": {},
   "outputs": [
    {
     "name": "stdin",
     "output_type": "stream",
     "text": [
      "Convert from (currency code) INR\n",
      "Convert to (currency code) USD\n",
      "How much INR do you want to convert? 1000\n"
     ]
    },
    {
     "name": "stdout",
     "output_type": "stream",
     "text": [
      "\n",
      "1000.0 INR is equal to 11.921575 USD, based upon the exchange rates on 2024-09-14 \n"
     ]
    }
   ],
   "source": [
    "# Importing the requireed libraries\n",
    "import requests\n",
    "import json\n",
    "\n",
    "# Gathering the input parameters from the user\n",
    "base = input(\"Convert from (currency code)\")\n",
    "curr = input(\"Convert to (currency code)\")\n",
    "quan = float(input(\"How much {} do you want to convert?\".format(base)))\n",
    "\n",
    "#Defining base URL\n",
    "base_url = \"https://cdn.jsdelivr.net/npm/@fawazahmed0/currency-api@latest\"\n",
    "\n",
    "#Constructing the URL based on the user paramenters and sending request to the server\n",
    "url = base_url + \"/\" + \"v1/currencies/\" + base.lower() + \".json\"\n",
    "response = requests.get(url)\n",
    "\n",
    "#Displaying error message if something went wrong\n",
    "if(response.ok is False):\n",
    "    print(\"\\nError: {}\".format(response.status_code))\n",
    "\n",
    "#Displaying the result\n",
    "else:\n",
    "    data = response.json()\n",
    "    rate = data[base.lower()][curr.lower()]\n",
    "    result = quan*rate\n",
    "    \n",
    "    print(\"\\n{0} {1} is equal to {2} {3}, based upon the exchange rates on {4} \".format(quan, base, result, curr, data['date']))"
   ]
  }
 ],
 "metadata": {
  "kernelspec": {
   "display_name": "Python 3 (ipykernel)",
   "language": "python",
   "name": "python3"
  },
  "language_info": {
   "codemirror_mode": {
    "name": "ipython",
    "version": 3
   },
   "file_extension": ".py",
   "mimetype": "text/x-python",
   "name": "python",
   "nbconvert_exporter": "python",
   "pygments_lexer": "ipython3",
   "version": "3.11.7"
  }
 },
 "nbformat": 4,
 "nbformat_minor": 5
}
